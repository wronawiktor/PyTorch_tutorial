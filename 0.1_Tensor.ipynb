{
 "cells": [
  {
   "cell_type": "markdown",
   "metadata": {},
   "source": [
    "Import potrzebnych bibliotek oraz sprawdzenie czy mamy poprawnie skonfigurowane środowisko"
   ]
  },
  {
   "cell_type": "code",
   "execution_count": 10,
   "metadata": {},
   "outputs": [
    {
     "name": "stdout",
     "output_type": "stream",
     "text": [
      "2.0.1+cu118\n"
     ]
    },
    {
     "data": {
      "text/plain": [
       "True"
      ]
     },
     "execution_count": 10,
     "metadata": {},
     "output_type": "execute_result"
    }
   ],
   "source": [
    "import torch\n",
    "#import numpy as np\n",
    "#import matplotlib.pyplot as plt\n",
    "#import pandas as pd\n",
    "\n",
    "print(torch.__version__)    # Sprawdzenie wersji PyTorch\n",
    "torch.cuda.is_available()   # Sprawdzenie czy jest dostępna karta graficzna"
   ]
  },
  {
   "cell_type": "markdown",
   "metadata": {},
   "source": [
    "Zapisanie wartości skalarnej"
   ]
  },
  {
   "cell_type": "code",
   "execution_count": 15,
   "metadata": {},
   "outputs": [
    {
     "name": "stdout",
     "output_type": "stream",
     "text": [
      "tensor(3.1415)\n",
      "torch.float32\n",
      "torch.Size([])\n",
      "0\n"
     ]
    },
    {
     "data": {
      "text/plain": [
       "3.1414999961853027"
      ]
     },
     "execution_count": 15,
     "metadata": {},
     "output_type": "execute_result"
    }
   ],
   "source": [
    "scalar = torch.tensor(3.1415)\n",
    "print(scalar)        # Wyświetlenie wartości tensora\n",
    "print(scalar.dtype)  # Wyświetlenie typu tensora\n",
    "print(scalar.shape)  # Wyświetlenie rozmiaru tensora\n",
    "print(scalar.ndim)   # Wyświetlenie liczby wymiarów tensora (ilość nawiasów kwadratowych)\n",
    "scalar.item()        # Wyświetlenie wartości tensora jako liczby"
   ]
  },
  {
   "cell_type": "markdown",
   "metadata": {},
   "source": [
    "Zapisanie wektora"
   ]
  },
  {
   "cell_type": "code",
   "execution_count": 17,
   "metadata": {},
   "outputs": [
    {
     "name": "stdout",
     "output_type": "stream",
     "text": [
      "tensor([1, 2, 3, 4, 5])\n",
      "torch.int64\n",
      "torch.Size([5])\n",
      "1\n"
     ]
    }
   ],
   "source": [
    "vector = torch.tensor([1, 2, 3, 4, 5])\n",
    "print(vector)       # Wyświetlenie wartości tensora\n",
    "print(vector.dtype) # Wyświetlenie typu tensora\n",
    "print(vector.shape) # Wyświetlenie rozmiaru tensora (5 razy jeden element)\n",
    "print(vector.ndim)  # Wyświetlenie liczby wymiarów tensora"
   ]
  },
  {
   "cell_type": "markdown",
   "metadata": {},
   "source": [
    "Zapisanie macierzy"
   ]
  },
  {
   "cell_type": "code",
   "execution_count": 18,
   "metadata": {},
   "outputs": [
    {
     "name": "stdout",
     "output_type": "stream",
     "text": [
      "tensor([[1, 2, 3],\n",
      "        [4, 5, 6]])\n",
      "torch.int64\n",
      "torch.Size([2, 3])\n",
      "2\n"
     ]
    }
   ],
   "source": [
    "MATRIX = torch.tensor([[1, 2, 3], [4, 5, 6]])\n",
    "print(MATRIX)       # Wyświetlenie wartości tensora\n",
    "print(MATRIX.dtype) # Wyświetlenie typu tensora\n",
    "print(MATRIX.shape) # Wyświetlenie rozmiaru tensora (2 razy 3 elementy)\n",
    "print(MATRIX.ndim)  # Wyświetlenie liczby wymiarów tensora"
   ]
  },
  {
   "cell_type": "markdown",
   "metadata": {},
   "source": [
    "Zapis tensora"
   ]
  },
  {
   "cell_type": "code",
   "execution_count": 26,
   "metadata": {},
   "outputs": [
    {
     "name": "stdout",
     "output_type": "stream",
     "text": [
      "tensor([[[1, 2, 3],\n",
      "         [4, 5, 6]],\n",
      "\n",
      "        [[7, 8, 9],\n",
      "         [0, 1, 2]]])\n",
      "torch.int64\n",
      "torch.Size([2, 2, 3])\n",
      "3\n",
      "tensor(6)\n",
      "tensor([[7, 8, 9],\n",
      "        [0, 1, 2]])\n"
     ]
    }
   ],
   "source": [
    "TENSOR = torch.tensor([[[1, 2, 3], [4, 5, 6]], [[7, 8, 9], [0, 1, 2]]])\n",
    "print(TENSOR)       # Wyświetlenie wartości tensora\n",
    "print(TENSOR.dtype) # Wyświetlenie typu tensora\n",
    "print(TENSOR.shape) # Wyświetlenie rozmiaru tensora (2 razy 2 wiersze po 3 elementy)\n",
    "print(TENSOR.ndim)  # Wyświetlenie liczby wymiarów tensora\n",
    "print(TENSOR[0, 1, 2])\n",
    "print(TENSOR[1])"
   ]
  },
  {
   "cell_type": "markdown",
   "metadata": {},
   "source": [
    "![Alt text](image0.1.png)\n",
    "Źródło: https://www.learnpytorch.io/00_pytorch_fundamentals/"
   ]
  }
 ],
 "metadata": {
  "kernelspec": {
   "display_name": "Python 3",
   "language": "python",
   "name": "python3"
  },
  "language_info": {
   "codemirror_mode": {
    "name": "ipython",
    "version": 3
   },
   "file_extension": ".py",
   "mimetype": "text/x-python",
   "name": "python",
   "nbconvert_exporter": "python",
   "pygments_lexer": "ipython3",
   "version": "3.11.5"
  },
  "orig_nbformat": 4
 },
 "nbformat": 4,
 "nbformat_minor": 2
}
