{
 "cells": [
  {
   "cell_type": "markdown",
   "metadata": {},
   "source": [
    "Import potrzebnych bibliotek oraz sprawdzenie czy mamy poprawnie skonfigurowane środowisko"
   ]
  },
  {
   "cell_type": "code",
   "execution_count": 2,
   "metadata": {},
   "outputs": [
    {
     "name": "stdout",
     "output_type": "stream",
     "text": [
      "2.0.1+cu118\n"
     ]
    },
    {
     "data": {
      "text/plain": [
       "True"
      ]
     },
     "execution_count": 2,
     "metadata": {},
     "output_type": "execute_result"
    }
   ],
   "source": [
    "import torch\n",
    "#import numpy as np\n",
    "#import matplotlib.pyplot as plt\n",
    "#import pandas as pd\n",
    "\n",
    "print(torch.__version__)    # Sprawdzenie wersji PyTorch\n",
    "torch.cuda.is_available()   # Sprawdzenie czy jest dostępna karta graficzna"
   ]
  },
  {
   "cell_type": "markdown",
   "metadata": {},
   "source": [
    "## Zapisanie wartości skalarnej"
   ]
  },
  {
   "cell_type": "code",
   "execution_count": 15,
   "metadata": {},
   "outputs": [
    {
     "name": "stdout",
     "output_type": "stream",
     "text": [
      "tensor(3.1415)\n",
      "torch.float32\n",
      "torch.Size([])\n",
      "0\n"
     ]
    },
    {
     "data": {
      "text/plain": [
       "3.1414999961853027"
      ]
     },
     "execution_count": 15,
     "metadata": {},
     "output_type": "execute_result"
    }
   ],
   "source": [
    "scalar = torch.tensor(3.1415)\n",
    "print(scalar)        # Wyświetlenie wartości tensora\n",
    "print(scalar.dtype)  # Wyświetlenie typu tensora\n",
    "print(scalar.shape)  # Wyświetlenie rozmiaru tensora\n",
    "print(scalar.ndim)   # Wyświetlenie liczby wymiarów tensora (ilość nawiasów kwadratowych)\n",
    "scalar.item()        # Wyświetlenie wartości tensora jako liczby"
   ]
  },
  {
   "cell_type": "markdown",
   "metadata": {},
   "source": [
    "## Zapisanie wektora"
   ]
  },
  {
   "cell_type": "code",
   "execution_count": 17,
   "metadata": {},
   "outputs": [
    {
     "name": "stdout",
     "output_type": "stream",
     "text": [
      "tensor([1, 2, 3, 4, 5])\n",
      "torch.int64\n",
      "torch.Size([5])\n",
      "1\n"
     ]
    }
   ],
   "source": [
    "vector = torch.tensor([1, 2, 3, 4, 5])\n",
    "print(vector)       # Wyświetlenie wartości tensora\n",
    "print(vector.dtype) # Wyświetlenie typu tensora\n",
    "print(vector.shape) # Wyświetlenie rozmiaru tensora (5 razy jeden element)\n",
    "print(vector.ndim)  # Wyświetlenie liczby wymiarów tensora"
   ]
  },
  {
   "cell_type": "markdown",
   "metadata": {},
   "source": [
    "## Zapisanie macierzy"
   ]
  },
  {
   "cell_type": "code",
   "execution_count": 18,
   "metadata": {},
   "outputs": [
    {
     "name": "stdout",
     "output_type": "stream",
     "text": [
      "tensor([[1, 2, 3],\n",
      "        [4, 5, 6]])\n",
      "torch.int64\n",
      "torch.Size([2, 3])\n",
      "2\n"
     ]
    }
   ],
   "source": [
    "MATRIX = torch.tensor([[1, 2, 3], [4, 5, 6]])\n",
    "print(MATRIX)       # Wyświetlenie wartości tensora\n",
    "print(MATRIX.dtype) # Wyświetlenie typu tensora\n",
    "print(MATRIX.shape) # Wyświetlenie rozmiaru tensora (2 razy 3 elementy)\n",
    "print(MATRIX.ndim)  # Wyświetlenie liczby wymiarów tensora"
   ]
  },
  {
   "cell_type": "markdown",
   "metadata": {},
   "source": [
    "## Zapis tensora"
   ]
  },
  {
   "cell_type": "code",
   "execution_count": 26,
   "metadata": {},
   "outputs": [
    {
     "name": "stdout",
     "output_type": "stream",
     "text": [
      "tensor([[[1, 2, 3],\n",
      "         [4, 5, 6]],\n",
      "\n",
      "        [[7, 8, 9],\n",
      "         [0, 1, 2]]])\n",
      "torch.int64\n",
      "torch.Size([2, 2, 3])\n",
      "3\n",
      "tensor(6)\n",
      "tensor([[7, 8, 9],\n",
      "        [0, 1, 2]])\n"
     ]
    }
   ],
   "source": [
    "TENSOR = torch.tensor([[[1, 2, 3], [4, 5, 6]], [[7, 8, 9], [0, 1, 2]]])\n",
    "print(TENSOR)       # Wyświetlenie wartości tensora\n",
    "print(TENSOR.dtype) # Wyświetlenie typu tensora\n",
    "print(TENSOR.shape) # Wyświetlenie rozmiaru tensora (2 razy 2 wiersze po 3 elementy)\n",
    "print(TENSOR.ndim)  # Wyświetlenie liczby wymiarów tensora\n",
    "print(TENSOR[0, 1, 2])\n",
    "print(TENSOR[1])"
   ]
  },
  {
   "cell_type": "markdown",
   "metadata": {},
   "source": [
    "![Alt text](image0.1.png)\n",
    "Źródło: https://www.learnpytorch.io/00_pytorch_fundamentals/"
   ]
  },
  {
   "cell_type": "markdown",
   "metadata": {},
   "source": [
    "# Tensory generowane losowo"
   ]
  },
  {
   "cell_type": "markdown",
   "metadata": {},
   "source": [
    "Większość etapów nauki sieci neuronowej zaczyna się od stworzenia tensora z wartościami losowymi, które następnie są modyfikowane w celu lepszej reprezentacji danych."
   ]
  },
  {
   "cell_type": "code",
   "execution_count": 7,
   "metadata": {},
   "outputs": [
    {
     "name": "stdout",
     "output_type": "stream",
     "text": [
      "tensor([[[[0.5264, 0.9622, 0.7175],\n",
      "          [0.3197, 0.5637, 0.4880],\n",
      "          [0.4932, 0.5586, 0.9850]],\n",
      "\n",
      "         [[0.9570, 0.5907, 0.3195],\n",
      "          [0.4696, 0.4603, 0.5166],\n",
      "          [0.7343, 0.1441, 0.3717]]],\n",
      "\n",
      "\n",
      "        [[[0.5691, 0.4958, 0.8530],\n",
      "          [0.4482, 0.7124, 0.3810],\n",
      "          [0.8843, 0.8851, 0.7419]],\n",
      "\n",
      "         [[0.9179, 0.6624, 0.7498],\n",
      "          [0.0464, 0.0931, 0.4399],\n",
      "          [0.9713, 0.9617, 0.0300]]]])\n"
     ]
    }
   ],
   "source": [
    "random_tensor = torch.rand(2, 2, 3, 3)\n",
    "print(random_tensor)"
   ]
  },
  {
   "cell_type": "code",
   "execution_count": 10,
   "metadata": {},
   "outputs": [
    {
     "name": "stdout",
     "output_type": "stream",
     "text": [
      "tensor(0.3717)\n",
      "4\n"
     ]
    }
   ],
   "source": [
    "print(random_tensor[0, 1, 2, 2])\n",
    "print(random_tensor.ndim)"
   ]
  },
  {
   "cell_type": "markdown",
   "metadata": {},
   "source": [
    "## Tworzenie tensora odpowiadającemu obrazowi"
   ]
  },
  {
   "cell_type": "code",
   "execution_count": 11,
   "metadata": {},
   "outputs": [
    {
     "name": "stdout",
     "output_type": "stream",
     "text": [
      "tensor([[[0.4023, 0.9960, 0.1962,  ..., 0.3941, 0.8797, 0.6221],\n",
      "         [0.9318, 0.8165, 0.7934,  ..., 0.4217, 0.4254, 0.7884],\n",
      "         [0.4508, 0.1750, 0.7910,  ..., 0.1129, 0.1015, 0.1879],\n",
      "         ...,\n",
      "         [0.5657, 0.6546, 0.7308,  ..., 0.1684, 0.2551, 0.6381],\n",
      "         [0.3703, 0.0750, 0.6826,  ..., 0.9056, 0.5517, 0.5703],\n",
      "         [0.1917, 0.1759, 0.5944,  ..., 0.8711, 0.4642, 0.2398]],\n",
      "\n",
      "        [[0.3479, 0.1902, 0.2426,  ..., 0.8201, 0.7069, 0.5479],\n",
      "         [0.5310, 0.0180, 0.0139,  ..., 0.6427, 0.2866, 0.1931],\n",
      "         [0.4884, 0.3727, 0.6409,  ..., 0.8585, 0.9155, 0.4308],\n",
      "         ...,\n",
      "         [0.3723, 0.2577, 0.2177,  ..., 0.4448, 0.5500, 0.8978],\n",
      "         [0.0910, 0.1726, 0.6137,  ..., 0.4448, 0.9486, 0.7507],\n",
      "         [0.5713, 0.0358, 0.3805,  ..., 0.4824, 0.8983, 0.5171]],\n",
      "\n",
      "        [[0.1839, 0.7027, 0.0906,  ..., 0.7012, 0.6948, 0.6033],\n",
      "         [0.8747, 0.5921, 0.2764,  ..., 0.2504, 0.9608, 0.3137],\n",
      "         [0.9207, 0.8350, 0.6614,  ..., 0.7596, 0.6908, 0.4915],\n",
      "         ...,\n",
      "         [0.3343, 0.2858, 0.8193,  ..., 0.9555, 0.4519, 0.1335],\n",
      "         [0.5533, 0.8044, 0.7372,  ..., 0.3272, 0.8603, 0.2144],\n",
      "         [0.4406, 0.3846, 0.8641,  ..., 0.2452, 0.5066, 0.0210]]])\n",
      "3\n",
      "torch.Size([3, 224, 224])\n"
     ]
    }
   ],
   "source": [
    "random_image_size_tensor = torch.rand(size=(3, 224, 224)) # 3 kanały(R, G, B) i obraz o rozmiarze 224x224\n",
    "print(random_image_size_tensor)\n",
    "print(random_image_size_tensor.ndim)\n",
    "print(random_image_size_tensor.shape)"
   ]
  },
  {
   "cell_type": "markdown",
   "metadata": {},
   "source": [
    "## Tworzenie tensorów wypełnionych zerami lub jedynkami"
   ]
  },
  {
   "cell_type": "code",
   "execution_count": 12,
   "metadata": {},
   "outputs": [
    {
     "name": "stdout",
     "output_type": "stream",
     "text": [
      "tensor([[0., 0., 0.],\n",
      "        [0., 0., 0.],\n",
      "        [0., 0., 0.]])\n"
     ]
    }
   ],
   "source": [
    "zeros = torch.zeros((3, 3))\n",
    "print(zeros)"
   ]
  },
  {
   "cell_type": "code",
   "execution_count": 13,
   "metadata": {},
   "outputs": [
    {
     "name": "stdout",
     "output_type": "stream",
     "text": [
      "tensor([[1., 1., 1.],\n",
      "        [1., 1., 1.],\n",
      "        [1., 1., 1.]])\n"
     ]
    }
   ],
   "source": [
    "ones = torch.ones((3, 3))\n",
    "print(ones)"
   ]
  },
  {
   "cell_type": "markdown",
   "metadata": {},
   "source": [
    "## Tworzenie tensorów w danym zakresie"
   ]
  },
  {
   "cell_type": "code",
   "execution_count": 14,
   "metadata": {},
   "outputs": [
    {
     "name": "stdout",
     "output_type": "stream",
     "text": [
      "tensor([0, 1, 2, 3, 4])\n"
     ]
    }
   ],
   "source": [
    "range = torch.arange(start=0, end=6, step=1) # Utworzenie zakresu od 0 do 5 z krokiem 1\n",
    "print(range)"
   ]
  },
  {
   "cell_type": "markdown",
   "metadata": {},
   "source": [
    "## Jeśli chcemy utworzyć tensor o takich samych wymiarach JAK inny, ale z innymi danymi"
   ]
  },
  {
   "cell_type": "code",
   "execution_count": 16,
   "metadata": {},
   "outputs": [
    {
     "name": "stdout",
     "output_type": "stream",
     "text": [
      "tensor([0, 0, 0, 0, 0])\n"
     ]
    }
   ],
   "source": [
    "five_zeros = torch.zeros_like(input=range) # Utworzenie tensora wypełnionego zerami o rozmiarze takim jak w range\n",
    "print(five_zeros)"
   ]
  },
  {
   "cell_type": "markdown",
   "metadata": {},
   "source": [
    "# Typy danych wykorzystywanych w tensorach"
   ]
  },
  {
   "cell_type": "markdown",
   "metadata": {},
   "source": [
    "Częste problemy z pracą na tensorach:\n",
    "1. Nie znajdują się na tym samym urządzeniu\n",
    "2. Tensory są różnych rozmiarów\n",
    "3. Nie mają spójnych typów danych (np. float16 i float32)"
   ]
  },
  {
   "cell_type": "code",
   "execution_count": 21,
   "metadata": {},
   "outputs": [
    {
     "name": "stdout",
     "output_type": "stream",
     "text": [
      "tensor([1., 2., 3.], device='cuda:0')\n"
     ]
    }
   ],
   "source": [
    "float_32_tensor = torch.tensor([1, 2, 3], \n",
    "                               dtype=torch.float32,           # Ustawienie typu tensora na float32\n",
    "                               device=torch.device(\"cuda:0\"), # Ustawienie urządzenia na GPU (cuda:0) lub CPU (cpu)\n",
    "                               requires_grad=False)           # Ustawienie czy tensor ma wymagać gradientu\n",
    "print(float_32_tensor)"
   ]
  },
  {
   "cell_type": "markdown",
   "metadata": {},
   "source": [
    "Zmiana typu danych używanych w tensorze"
   ]
  },
  {
   "cell_type": "code",
   "execution_count": 22,
   "metadata": {},
   "outputs": [
    {
     "name": "stdout",
     "output_type": "stream",
     "text": [
      "tensor([1., 2., 3.], device='cuda:0', dtype=torch.float16)\n"
     ]
    }
   ],
   "source": [
    "float_16_tensor = float_32_tensor.type(torch.float16) # Konwersja tensora na float16\n",
    "print(float_16_tensor)"
   ]
  },
  {
   "cell_type": "markdown",
   "metadata": {},
   "source": [
    "# Operacje na tensorach"
   ]
  },
  {
   "cell_type": "code",
   "execution_count": null,
   "metadata": {},
   "outputs": [],
   "source": [
    "tensor = torch.tensor([1, 2, 3])"
   ]
  },
  {
   "cell_type": "markdown",
   "metadata": {},
   "source": [
    "Dodawanie"
   ]
  },
  {
   "cell_type": "code",
   "execution_count": 29,
   "metadata": {},
   "outputs": [
    {
     "name": "stdout",
     "output_type": "stream",
     "text": [
      "tensor([11, 12, 13])\n",
      "tensor([11, 12, 13])\n"
     ]
    }
   ],
   "source": [
    "print(tensor + 10) # Dodanie 10 do każdego elementu tensora\n",
    "print(torch.add(tensor, 10)) # Dodanie 10 do każdego elementu tensora"
   ]
  },
  {
   "cell_type": "markdown",
   "metadata": {},
   "source": [
    "Mnożenie"
   ]
  },
  {
   "cell_type": "code",
   "execution_count": 27,
   "metadata": {},
   "outputs": [
    {
     "name": "stdout",
     "output_type": "stream",
     "text": [
      "tensor([10, 20, 30])\n",
      "tensor([10, 20, 30])\n"
     ]
    }
   ],
   "source": [
    "print(tensor * 10) # Pomnożenie każdego elementu tensora przez 10\n",
    "print(torch.multiply(tensor, 10)) # Pomnożenie każdego elementu tensora przez 10"
   ]
  },
  {
   "cell_type": "markdown",
   "metadata": {},
   "source": [
    "Odejmowanie"
   ]
  },
  {
   "cell_type": "code",
   "execution_count": 30,
   "metadata": {},
   "outputs": [
    {
     "name": "stdout",
     "output_type": "stream",
     "text": [
      "tensor([-9, -8, -7])\n",
      "tensor([-9, -8, -7])\n"
     ]
    }
   ],
   "source": [
    "print(tensor - 10) # Odjęcie 10 od każdego elementu tensora\n",
    "print(torch.subtract(tensor, 10)) # Odjęcie 10 od każdego elementu tensora"
   ]
  },
  {
   "cell_type": "markdown",
   "metadata": {},
   "source": [
    "Możenie każdego elementu tensora przez siebie"
   ]
  },
  {
   "cell_type": "code",
   "execution_count": 32,
   "metadata": {},
   "outputs": [
    {
     "name": "stdout",
     "output_type": "stream",
     "text": [
      "tensor([1, 2, 3]) * tensor([1, 2, 3])\n",
      "tensor([1, 4, 9])\n"
     ]
    }
   ],
   "source": [
    "print(tensor, \"*\", tensor)\n",
    "print(tensor * tensor) # Pomnożenie każdego elementu tensora przez siebie"
   ]
  },
  {
   "cell_type": "markdown",
   "metadata": {},
   "source": [
    "Mnożenie macierzowe\n",
    "![Alt text](image0.2.png)\n",
    "Źródło: https://www.mathsisfun.com/algebra/matrix-multiplying.html\n",
    "Istnieją 2 zasady:\n",
    "1. Wymiary wewnętzne macierzy muszą być takie same          (1,2) @ (2, 3) będzie ok.    \n",
    "2. Rozmiar macierzy wynikowej jest wymiarami zewnętrznymi   (1,2) @ (2, 3) będzie (1, 3)"
   ]
  },
  {
   "cell_type": "code",
   "execution_count": 42,
   "metadata": {},
   "outputs": [
    {
     "name": "stdout",
     "output_type": "stream",
     "text": [
      "tensor(14)\n"
     ]
    }
   ],
   "source": [
    "print(torch.matmul(tensor, tensor)) # Mnożenie macierzowe tensora przez siebie\n",
    "print(tensor @ tensor) # Mnożenie macierzowe tensora przez siebie"
   ]
  },
  {
   "cell_type": "code",
   "execution_count": 44,
   "metadata": {},
   "outputs": [
    {
     "name": "stdout",
     "output_type": "stream",
     "text": [
      "tensor([[0.7453, 0.4441]]) \n",
      " tensor([[0.3432, 0.4797, 0.6493],\n",
      "        [0.6150, 0.5726, 0.8034]])\n",
      "tensor([[0.5289, 0.6118, 0.8407]])\n"
     ]
    }
   ],
   "source": [
    "x = torch.rand(1, 2)\n",
    "y = torch.rand(2, 3)\n",
    "print(x, \"\\n\", y)\n",
    "print(x @ y) # Mnożenie macierzowe dwóch tensorów"
   ]
  },
  {
   "cell_type": "markdown",
   "metadata": {},
   "source": [
    "Transpozycja"
   ]
  },
  {
   "cell_type": "code",
   "execution_count": 49,
   "metadata": {},
   "outputs": [
    {
     "name": "stdout",
     "output_type": "stream",
     "text": [
      "tensor([[1, 2],\n",
      "        [3, 4],\n",
      "        [5, 6]]) torch.Size([3, 2])\n",
      "tensor([[1, 3, 5],\n",
      "        [2, 4, 6]]) torch.Size([2, 3])\n"
     ]
    }
   ],
   "source": [
    "basic_tensor = torch.tensor([[1, 2],\n",
    "                            [3, 4],\n",
    "                            [5, 6]])\n",
    "print(basic_tensor, basic_tensor.shape) # Wyświetlenie tensora i jego rozmiaru\n",
    "print(basic_tensor.T, basic_tensor.T.shape) # Transpozycja tensora i wyświetlenie jego rozmiaru"
   ]
  },
  {
   "cell_type": "markdown",
   "metadata": {},
   "source": [
    "# Funkcje do zastosowania na tensorach"
   ]
  },
  {
   "cell_type": "code",
   "execution_count": 50,
   "metadata": {},
   "outputs": [
    {
     "name": "stdout",
     "output_type": "stream",
     "text": [
      "tensor([ 0, 10, 20, 30, 40, 50, 60, 70, 80, 90])\n"
     ]
    }
   ],
   "source": [
    "x_tensor = torch.arange(0, 100, 10)\n",
    "print(x_tensor)"
   ]
  },
  {
   "cell_type": "code",
   "execution_count": 62,
   "metadata": {},
   "outputs": [
    {
     "name": "stdout",
     "output_type": "stream",
     "text": [
      "tensor(0)\n",
      "tensor(0)\n",
      "tensor(0)\n",
      "tensor(90)\n",
      "tensor(90)\n",
      "tensor(9)\n"
     ]
    }
   ],
   "source": [
    "print(torch.min(x_tensor)) # Znalezienie najmniejszej wartości w tensorze\n",
    "print(x_tensor.min()) # Znalezienie najmniejszej wartości w tensorze (inny sposób)\n",
    "print(x_tensor.argmin()) # Znalezienie indeksu najmniejszej wartości w tensorze\n",
    "\n",
    "print(torch.max(x_tensor)) # Znalezienie największej wartości w tensorze\n",
    "print(x_tensor.max()) # Znalezienie największej wartości w tensorze (inny sposób)\n",
    "print(x_tensor.argmax()) # Znalezienie indeksu największej wartości w tensorze"
   ]
  },
  {
   "cell_type": "code",
   "execution_count": 58,
   "metadata": {},
   "outputs": [
    {
     "name": "stdout",
     "output_type": "stream",
     "text": [
      "tensor(45.)\n",
      "tensor(45.)\n"
     ]
    }
   ],
   "source": [
    "print(torch.mean(x_tensor.type(torch.float32))) # Znalezienie średniej wartości w tensorze\n",
    "print(x_tensor.type(torch.float32).mean()) # Znalezienie średniej wartości w tensorze (inny sposób)\n",
    "# Warto zaznaczyć, że funkcja mean() wymaga typu float32, dlatego należy dokonać konwersji z typu long"
   ]
  },
  {
   "cell_type": "code",
   "execution_count": 59,
   "metadata": {},
   "outputs": [
    {
     "name": "stdout",
     "output_type": "stream",
     "text": [
      "tensor(450)\n",
      "tensor(450)\n"
     ]
    }
   ],
   "source": [
    "print(torch.sum(x_tensor)) # Znalezienie sumy wartości w tensorze\n",
    "print(x_tensor.sum()) # Znalezienie sumy wartości w tensorze (inny sposób)"
   ]
  },
  {
   "cell_type": "markdown",
   "metadata": {},
   "source": [
    "# Zaawansowane funkcje tensorów\n",
    "\n",
    "- Reshape - zmienia kształt tensora do wskazanego\n",
    "- View - zwraca widok tensora wejściowego o wskazanym kształcie, ale z zachowaniem danych oryginalnego tensora\n",
    "- Stacking - łączenie tensorów wertykalnie (vstack) lub horyzontalnie (hstack)\n",
    "- Squeeze - usuwa wymiar o rozmiarze '1'\n",
    "- Unsqueeze - cofa usunięcie wymiaru o rozmiarze '1' (dodaje go na wskazaną pozycję)\n",
    "- Permute - reorganizuje wymiary we wskazaną kolejność (prezentując widok)\n"
   ]
  },
  {
   "cell_type": "code",
   "execution_count": 73,
   "metadata": {},
   "outputs": [
    {
     "name": "stdout",
     "output_type": "stream",
     "text": [
      "tensor([1., 2., 3., 4., 5., 6., 7., 8., 9.]) torch.Size([9])\n"
     ]
    }
   ],
   "source": [
    "import torch\n",
    "\n",
    "tensor = torch.arange(1., 10.)\n",
    "print(tensor, tensor.shape)\n"
   ]
  },
  {
   "cell_type": "markdown",
   "metadata": {},
   "source": [
    "## Reshape"
   ]
  },
  {
   "cell_type": "code",
   "execution_count": 64,
   "metadata": {},
   "outputs": [
    {
     "name": "stdout",
     "output_type": "stream",
     "text": [
      "tensor([[1., 2., 3., 4., 5., 6., 7., 8., 9.]]) torch.Size([1, 9])\n"
     ]
    }
   ],
   "source": [
    "# Dodanie wymiaru do tensora\n",
    "tensor_reshaped = tensor.reshape(1, 9)\n",
    "print(tensor_reshaped, tensor_reshaped.shape)"
   ]
  },
  {
   "cell_type": "code",
   "execution_count": 65,
   "metadata": {},
   "outputs": [
    {
     "name": "stdout",
     "output_type": "stream",
     "text": [
      "tensor([[1.],\n",
      "        [2.],\n",
      "        [3.],\n",
      "        [4.],\n",
      "        [5.],\n",
      "        [6.],\n",
      "        [7.],\n",
      "        [8.],\n",
      "        [9.]]) torch.Size([9, 1])\n"
     ]
    }
   ],
   "source": [
    "# Dodanie wymiaru do tensora w inny sposób, ale tak aby suma elementów się zgadzała\n",
    "tensor_reshaped = tensor.reshape(9, 1)\n",
    "print(tensor_reshaped, tensor_reshaped.shape)"
   ]
  },
  {
   "cell_type": "markdown",
   "metadata": {},
   "source": [
    "## View"
   ]
  },
  {
   "cell_type": "code",
   "execution_count": 72,
   "metadata": {},
   "outputs": [
    {
     "name": "stdout",
     "output_type": "stream",
     "text": [
      "tensor([[1., 2., 3., 4., 5., 6., 7., 8., 9.]]) torch.Size([1, 9])\n",
      "tensor([5., 2., 3., 4., 5., 6., 7., 8., 9.]) tensor([[5., 2., 3., 4., 5., 6., 7., 8., 9.]])\n"
     ]
    }
   ],
   "source": [
    "# Zmiana widoku\n",
    "view = tensor.view(1, 9)\n",
    "print(view, view.shape)\n",
    "# Wprowadzenie zamiany w view zmieni również tensor, ponieważ view jest widokiem tensora i dzielą te same dane\n",
    "view[0, 0] = 5\n",
    "print(tensor, view)"
   ]
  },
  {
   "cell_type": "markdown",
   "metadata": {},
   "source": [
    "## Stack"
   ]
  },
  {
   "cell_type": "code",
   "execution_count": 75,
   "metadata": {},
   "outputs": [
    {
     "name": "stdout",
     "output_type": "stream",
     "text": [
      "tensor([[1., 2., 3., 4., 5., 6., 7., 8., 9.],\n",
      "        [1., 2., 3., 4., 5., 6., 7., 8., 9.],\n",
      "        [1., 2., 3., 4., 5., 6., 7., 8., 9.]]) torch.Size([3, 9])\n"
     ]
    }
   ],
   "source": [
    "# Stack przeprowadzony werkalnie\n",
    "tensor_stacked = torch.stack((tensor, tensor, tensor), dim=0)\n",
    "print(tensor_stacked, tensor_stacked.shape)"
   ]
  },
  {
   "cell_type": "code",
   "execution_count": 76,
   "metadata": {},
   "outputs": [
    {
     "name": "stdout",
     "output_type": "stream",
     "text": [
      "tensor([[1., 1., 1.],\n",
      "        [2., 2., 2.],\n",
      "        [3., 3., 3.],\n",
      "        [4., 4., 4.],\n",
      "        [5., 5., 5.],\n",
      "        [6., 6., 6.],\n",
      "        [7., 7., 7.],\n",
      "        [8., 8., 8.],\n",
      "        [9., 9., 9.]]) torch.Size([9, 3])\n"
     ]
    }
   ],
   "source": [
    "# Stack przeprowadzony horyzontalnie \n",
    "tensor_stacked = torch.stack((tensor, tensor, tensor), dim=1)\n",
    "print(tensor_stacked, tensor_stacked.shape)"
   ]
  },
  {
   "cell_type": "markdown",
   "metadata": {},
   "source": [
    "## Squeeze i unsqueeze"
   ]
  },
  {
   "cell_type": "code",
   "execution_count": 78,
   "metadata": {},
   "outputs": [
    {
     "name": "stdout",
     "output_type": "stream",
     "text": [
      "tensor([[1., 2., 3., 4., 5., 6., 7., 8., 9.]]) torch.Size([1, 9])\n",
      "tensor([1., 2., 3., 4., 5., 6., 7., 8., 9.]) torch.Size([9])\n"
     ]
    }
   ],
   "source": [
    "# Squeeze\n",
    "tensor = torch.arange(1., 10.)\n",
    "tensor_reshaped = tensor.reshape(1, 9)\n",
    "print(tensor_reshaped, tensor_reshaped.shape)\n",
    "# Mamy tensor o rozmiarze (1, 9)\n",
    "\n",
    "# Squeezed usunie wymiar o rozmiarze 1\n",
    "tensor_squeezed = tensor_reshaped.squeeze()\n",
    "print(tensor_squeezed, tensor_squeezed.shape)\n"
   ]
  },
  {
   "cell_type": "code",
   "execution_count": 80,
   "metadata": {},
   "outputs": [
    {
     "name": "stdout",
     "output_type": "stream",
     "text": [
      "tensor([1., 2., 3., 4., 5., 6., 7., 8., 9.]) torch.Size([9])\n",
      "tensor([[1., 2., 3., 4., 5., 6., 7., 8., 9.]]) torch.Size([1, 9])\n"
     ]
    }
   ],
   "source": [
    "# Unsqueeze\n",
    "print(tensor_squeezed, tensor_squeezed.shape)\n",
    "tensor_unsqueezed = tensor_squeezed.unsqueeze(dim=0)\n",
    "print(tensor_unsqueezed, tensor_unsqueezed.shape)"
   ]
  },
  {
   "cell_type": "markdown",
   "metadata": {},
   "source": [
    "## Permute"
   ]
  },
  {
   "cell_type": "code",
   "execution_count": 86,
   "metadata": {},
   "outputs": [
    {
     "name": "stdout",
     "output_type": "stream",
     "text": [
      "torch.Size([224, 224, 3])\n",
      "torch.Size([3, 224, 224])\n"
     ]
    }
   ],
   "source": [
    "orginal_tensor = torch.rand([224, 224, 3]) # symulujemy obraz o rozmiarze 224x224 i 3 kanałach (R, G, B)\n",
    "print(orginal_tensor.shape)\n",
    "# chcąc ustawić kanał kolorów na pierwszej pozycji, musimy użyć funkcji permute\n",
    "permuted_tensor = orginal_tensor.permute(2, 0, 1) # Jako argumenty podajemy nową kolejność wymiarów\n",
    "# 0>1 1>2 2>0\n",
    "print(permuted_tensor.shape)"
   ]
  },
  {
   "cell_type": "code",
   "execution_count": 87,
   "metadata": {},
   "outputs": [
    {
     "name": "stdout",
     "output_type": "stream",
     "text": [
      "tensor(2137.) tensor(2137.)\n"
     ]
    }
   ],
   "source": [
    "# Warto zaznaczyć, że oba tensory korzystają z tych samych danych, więc zmiana w jednym wpłynie na drugi\n",
    "orginal_tensor[0, 0, 0] = 2137\n",
    "print(orginal_tensor[0, 0, 0], permuted_tensor[0, 0, 0])"
   ]
  },
  {
   "cell_type": "markdown",
   "metadata": {},
   "source": [
    "# Ograniczenie losowości (reproducibility)"
   ]
  },
  {
   "cell_type": "code",
   "execution_count": 90,
   "metadata": {},
   "outputs": [
    {
     "name": "stdout",
     "output_type": "stream",
     "text": [
      "tensor([[0.4131, 0.7426, 0.3213],\n",
      "        [0.8447, 0.0981, 0.5743],\n",
      "        [0.7492, 0.1042, 0.0292]])\n",
      "tensor([[0.5636, 0.7805, 0.8438],\n",
      "        [0.2534, 0.7340, 0.8856],\n",
      "        [0.0233, 0.2360, 0.4066]])\n",
      "tensor([[False, False, False],\n",
      "        [False, False, False],\n",
      "        [False, False, False]])\n"
     ]
    }
   ],
   "source": [
    "# Jeśli stworzymy dwa losowe tensory, to szansa że dane w nich zawarte będą takie same jest bardzo mała\n",
    "import torch\n",
    "tensor_1 = torch.rand([3, 3])\n",
    "tensor_2 = torch.rand([3, 3])\n",
    "print(tensor_1)\n",
    "print(tensor_2)\n",
    "# Sprawdzamy czy tensory są takie same\n",
    "print(tensor_1 == tensor_2)"
   ]
  },
  {
   "cell_type": "code",
   "execution_count": 91,
   "metadata": {},
   "outputs": [
    {
     "name": "stdout",
     "output_type": "stream",
     "text": [
      "tensor([[0.8718, 0.1155, 0.7057],\n",
      "        [0.3841, 0.7322, 0.0119],\n",
      "        [0.0205, 0.6273, 0.5561]])\n",
      "tensor([[0.8718, 0.1155, 0.7057],\n",
      "        [0.3841, 0.7322, 0.0119],\n",
      "        [0.0205, 0.6273, 0.5561]])\n",
      "tensor([[True, True, True],\n",
      "        [True, True, True],\n",
      "        [True, True, True]])\n"
     ]
    }
   ],
   "source": [
    "#Jeśli ustalimy seed do obliczania losowości\n",
    "random_seed = 34\n",
    "\n",
    "torch.manual_seed(random_seed)\n",
    "tensor_3 = torch.rand([3, 3])\n",
    "\n",
    "torch.manual_seed(random_seed)\n",
    "tensor_4 = torch.rand([3, 3])\n",
    "\n",
    "print(tensor_3)\n",
    "print(tensor_4)\n",
    "\n",
    "# Sprawdzamy czy tensory są takie same\n",
    "print(tensor_3 == tensor_4)"
   ]
  },
  {
   "cell_type": "markdown",
   "metadata": {},
   "source": [
    "Jest to przydatne jeśli chcemy coś odtworzyć. Np. ten sam plik na innym komputerze, a zależy nam na takich samych wynikach."
   ]
  }
 ],
 "metadata": {
  "kernelspec": {
   "display_name": "Python 3",
   "language": "python",
   "name": "python3"
  },
  "language_info": {
   "codemirror_mode": {
    "name": "ipython",
    "version": 3
   },
   "file_extension": ".py",
   "mimetype": "text/x-python",
   "name": "python",
   "nbconvert_exporter": "python",
   "pygments_lexer": "ipython3",
   "version": "3.11.5"
  },
  "orig_nbformat": 4
 },
 "nbformat": 4,
 "nbformat_minor": 2
}
